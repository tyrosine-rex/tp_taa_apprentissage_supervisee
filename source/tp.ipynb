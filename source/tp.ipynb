{
 "cells": [
  {
   "cell_type": "code",
   "execution_count": 1,
   "metadata": {},
   "outputs": [],
   "source": [
    "from warnings import filterwarnings\n",
    "\n",
    "import matplotlib.pyplot as plt\n",
    "import numpy as np\n",
    "import pandas as pd\n",
    "\n",
    "np.set_printoptions(threshold=10000,suppress=True) \n",
    "filterwarnings('ignore')"
   ]
  },
  {
   "cell_type": "markdown",
   "metadata": {},
   "source": [
    "# I) Apprentissage supervisé : Feature engineering et Classification\n",
    "\n",
    "L’objectif dans cette partie est de construire un bon classifieur sur un jeu de données de crédit scoring du fichier *\"credit_scoring.csv\"*.\n",
    "\n",
    "### **1) Chargement des données et préparation :** Dans un premier temps nous allons importer le jeu de données et analyser ses caractéristiques.\n",
    "\n",
    "- Importer ce jeu de données avec la librairie pandas (c.f. read_csv)\n",
    "- Transformer votre jeu de données issue de pandas qui sera de type Data Frame en numpy Array\n",
    "(c.f. values) et séparer ensuite les variables caractéristiques de la variable à prédire (status) en deux\n",
    "tableaux différents.\n",
    "- Analyser les propriétés de vos données : taille de l’échantillon (c.f. shape), nombre d’exemples\n",
    "positifs et négatifs (c.f. hist).\n",
    "- Pour éviter d’avoir un résultat biaisé du classifieur que nous allons construire, séparer les données\n",
    "en deux parties (de taille 50% chacune) une dite d’apprentissage qui servira à l’apprentissage du classifieur et l’autre dite de test qui servira à son évaluation (c.f. train_test_split avec un random_state=1)."
   ]
  },
  {
   "cell_type": "code",
   "execution_count": 55,
   "metadata": {},
   "outputs": [
    {
     "name": "stdout",
     "output_type": "stream",
     "text": [
      "Le jeu de donnée présente:\n",
      "    4375   enregistrements\n",
      "    13     variables explicatives\n",
      "    1      variable label/classification\n",
      "\n",
      "Concernant la classification, elle est binaire (0 ou 1) avec:\n",
      "    3159   classe 1 = solvable\n",
      "    1216   classe 0 = non solvable \n",
      "\n"
     ]
    }
   ],
   "source": [
    "from sklearn.model_selection import train_test_split\n",
    "\n",
    "# chargement des données\n",
    "pd_credit = pd.read_csv(\"../data/credit_scoring.csv\", sep=\";\")\n",
    "np_credit = pd_credit.values\n",
    "\n",
    "# séparation entre donnée \"input\" : X et les labels : Y\n",
    "X, Y = np_credit[:, :-1], np_credit[:, -1]\n",
    "\n",
    "# séparation des données en test et train\n",
    "xtrain, xtest, ytrain, ytest = train_test_split(X, Y, test_size=0.5, random_state=1)\n",
    "\n",
    "# exploration des données\n",
    "txt = f\"\"\"Le jeu de donnée présente:\n",
    "    {X.shape[0]:<6d} enregistrements\n",
    "    {X.shape[1]:<6d} variables explicatives\n",
    "    {1:<6d} variable label/classification\n",
    "\n",
    "Concernant la classification, elle est binaire (0 ou 1) avec:\n",
    "    {int(Y.sum()):<6d} classe 1 = solvable\n",
    "    {int(len(Y) - Y.sum()):<6d} classe 0 = non solvable \n",
    "\"\"\"\n",
    "print(txt)"
   ]
  },
  {
   "cell_type": "markdown",
   "metadata": {},
   "source": []
  }
 ],
 "metadata": {
  "kernelspec": {
   "display_name": "Python 3.8.13 ('taa')",
   "language": "python",
   "name": "python3"
  },
  "language_info": {
   "codemirror_mode": {
    "name": "ipython",
    "version": 3
   },
   "file_extension": ".py",
   "mimetype": "text/x-python",
   "name": "python",
   "nbconvert_exporter": "python",
   "pygments_lexer": "ipython3",
   "version": "3.8.13"
  },
  "orig_nbformat": 4,
  "vscode": {
   "interpreter": {
    "hash": "9370ef8dc01337c36ef806f18206680f25cda357dd9ec56362b27c8f565b71ed"
   }
  }
 },
 "nbformat": 4,
 "nbformat_minor": 2
}
